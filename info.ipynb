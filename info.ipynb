{
 "cells": [
  {
   "cell_type": "markdown",
   "metadata": {},
   "source": [
    "# Freqency Hopping (FH) and Rate Adaptation (RA) in Wireless Systems\r\n",
    "As mentioned in [README.md](https://github.com/jpiland16/wireless-fh-ra/blob/master/README.md), this project is a python implementation of [*Game Theoretic Anti-jamming Dynamic Frequency Hopping and Rate Adaptation in Wireless Systems*](https://uweb.engr.arizona.edu/~mjabdelrahman/WiOpt14.pdf) by Hanawal, Abdel-Rahman, and Krunz.\r\n",
    "\r\n",
    "## The game\r\n",
    " - The transmitter can send messages along any of the $k$ frequency bands, i.e. channels.\r\n",
    " - The transmitter can send messages at any of the $M + 1$ rates, $R_0, R_1, ... R_M$.\r\n",
    " - In order for a transmission to be successful at a rate $R_i$, the signal-to-interference-plus-noise ratio (SINR) must be **at least** $\\gamma_i$. *(or should this be greater than?)*\r\n",
    "   - This is not in the paper, but I have been calculating the SINR limits using the [Shannon-Hartley theorem](https://en.wikipedia.org/wiki/Shannon%E2%80%93Hartley_theorem). The code that does this can be found [here](https://jpiland16.github.io/jump-to-location?repo=jpiland16/wireless-fh-ra&type=python-function&file=parameters.py&jump=calculate_sinr_limits). In summary, the faster the rate, the higher of SINR that is required.\r\n",
    " - We assume that the jammer is within range of the receiver but not of the transmitter. As described by the paper, this is characteristic of satellite communications in which a jammer could inject noise towards a satellite, listening to the satellite's responses (since the satellite beam has a large foorprint) while still being unable to hear the transmitted message from the ground station.\r\n",
    " - In order to interrupt the transmission, the jammer will inject noise towards the receiver in order to degrade (decrease) the SINR at the receiver. The SINR at the receiver is calculated according to the following formula: \r\n",
    " $$\\begin{equation}\\eta = \\frac{P_R}{\\alpha P_J + \\sigma^2}\\end{equation}$$\r\n",
    "   - This formula is not found in the code and is only used to derive Equation 2.\r\n",
    " - This means that in order to stop a transmission occuring at rate $i$, the jammer must interfere with power **greater than** *(or equal to?)* $$\\begin{equation}P_{J_i} = \\frac{\\frac{P_R}{\\gamma_{M - i}} - \\sigma ^ 2}{\\alpha}\\tag{2}\\end{equation}$$\r\n",
    "   - This formula can be found in code [here](https://jpiland16.github.io/jump-to-location?repo=jpiland16/wireless-fh-ra&type=python-function&file=parameters.py&jump=calculate_p_jam).\r\n",
    "   - One source of confusion I have here is that later in the paper, (see Equation 9, for example) a message is considered jammed if $j \\gt M - i$, and **not** if $j = i$. This means that if there are $M + 1 = 1$ rates, i.e. $M = 0$, then it is not possible for the jammer to block the message, because $j$ is at most 0. This is why I am wondering (as shown in the bold and italics above) if the correct condition should be $j \\geq M - i$ instead of $j \\gt M - i$.\r\n",
    " - The jammer usually attacks and listens to the receiver on $m$ channels at a time. (In this repository, `n` is used instead of `m`.)\r\n",
    " - The receiver always sends back an ACK if the message is received, and a NACK if it is jammed. The jammer learns which channels the transmitter is using by detecting whether the receiver sends an ACK/NACK on that channel.\r\n",
    " - Should the jammer choose to attack/listen on a single channel at once, its interference power is increased, as shown below: $$\\gamma = \\frac{P_R}{\\alpha m P_J + \\sigma^2}$$\r\n",
    "   - This formula can be found in code [here](https://jpiland16.github.io/jump-to-location?repo=jpiland16/wireless-fh-ra&type=python-function&file=parameters.py&jump=get_single_channel_attack_sinr).\r\n",
    "\r\n",
    " ## The equations\r\n",
    "\r\n",
    " A more complete summary of all the equations is given in [info.pdf](https://github.com/jpiland16/wireless-fh-ra/blob/master/info.pdf), and links to equations in code are given below.\r\n",
    "\r\n",
    "  - Equation 1 - not used\r\n",
    "  - Equation 2 - [here](https://jpiland16.github.io/jump-to-location?repo=jpiland16/wireless-fh-ra&type=python-function&file=parameters.py&jump=calculate_p_jam)\r\n",
    "  - Equation 3 - used as a constraint [here](https://jpiland16.github.io/jump-to-location?repo=jpiland16/wireless-fh-ra&type=python-function&file=model.py&jump=validate_jammer_strategy) and [here](https://jpiland16.github.io/jump-to-location?repo=jpiland16/wireless-fh-ra&type=python-function&file=optimize.py&jump=create_constraints)\r\n",
    "  - Equation 4 - used indirectly in [simulation.py](https://github.com/jpiland16/wireless-fh-ra/blob/master/simulation.py)\r\n",
    "  - Equation 5 - not used\r\n",
    "  - Equation 6 - [here](https://jpiland16.github.io/jump-to-location?repo=jpiland16/wireless-fh-ra&type=python-function&file=model.py&jump=get_state_space)\r\n",
    "  - Equation 7 - [here](https://jpiland16.github.io/jump-to-location?repo=jpiland16/wireless-fh-ra&type=python-function&file=model.py&jump=get_action_space)\r\n",
    "  - Equations 9 through 12 - [here](https://jpiland16.github.io/jump-to-location?repo=jpiland16/wireless-fh-ra&type=python-function&file=model.py&jump=get_transition_probabilities)\r\n",
    "  - Equation 13 - [here](https://jpiland16.github.io/jump-to-location?repo=jpiland16/wireless-fh-ra&type=python-function&file=model.py&jump=get_immediate_transmitter_reward)\r\n",
    "  - Equations 14 through 21 - not used directly\r\n",
    "  - Equation 22 - [here](https://jpiland16.github.io/jump-to-location?repo=jpiland16/wireless-fh-ra&type=python-function&file=optimize.py&jump=objective_function)"
   ]
  },
  {
   "cell_type": "code",
   "execution_count": null,
   "metadata": {},
   "outputs": [],
   "source": []
  }
 ],
 "metadata": {
  "interpreter": {
   "hash": "57baa5815c940fdaff4d14510622de9616cae602444507ba5d0b6727c008cbd6"
  },
  "kernelspec": {
   "display_name": "Python 3.7.8 64-bit",
   "name": "python3"
  },
  "language_info": {
   "name": "python",
   "version": ""
  },
  "orig_nbformat": 4
 },
 "nbformat": 4,
 "nbformat_minor": 2
}