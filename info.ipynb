{
 "cells": [
  {
   "cell_type": "markdown",
   "metadata": {},
   "source": [
    "# Freqency Hopping (FH) and Rate Adaptation (RA) in Wireless Systems\r\n",
    "As mentioned in [README.md](https://github.com/jpiland16/wireless-fh-ra/blob/master/README.md), this project is a python implementation of [*Game Theoretic Anti-jamming Dynamic Frequency Hopping and Rate Adaptation in Wireless Systems*](https://uweb.engr.arizona.edu/~mjabdelrahman/WiOpt14.pdf) by Hanawal, Abdel-Rahman, and Krunz.\r\n",
    "\r\n",
    "## The game\r\n",
    " - The transmitter can send messages along any of the $k$ frequency bands, i.e. channels.\r\n",
    " - The transmitter can send messages at any of the $M + 1$ rates, $R_0, R_1, ... R_M$.\r\n",
    " - In order for a transmission to be successful at a rate $R_i$, the signal-to-interference-plus-noise ratio (SINR) must be **at least** $\\gamma_i$. *(or should this be greater than?)*\r\n",
    "   - This is not in the paper, but I have been calculating the SINR limits using the [Shannon-Harley theorem](https://en.wikipedia.org/wiki/Shannon%E2%80%93Hartley_theorem). The code that does this can be found [here](https://jpiland16.github.io/jump-to-location?repo=jpiland16/wireless-fh-ra&type=python-function&file=parameters.py&jump=calculate_sinr_limits). In summary, the faster the rate, the higher of SINR that is required.\r\n",
    " - We assume that the jammer is within range of the receiver but not of the transmitter. As described by the paper, this is characteristic of satellite communications in which a jammer could inject noise towards a satellite, listening to the satellite's responses (since the satellite beam has a large foorprint) while still being unable to hear the transmitted message from the ground station."
   ]
  }
 ],
 "metadata": {
  "interpreter": {
   "hash": "57baa5815c940fdaff4d14510622de9616cae602444507ba5d0b6727c008cbd6"
  },
  "kernelspec": {
   "display_name": "Python 3.7.8 64-bit",
   "name": "python3"
  },
  "language_info": {
   "name": "python",
   "version": ""
  },
  "orig_nbformat": 4
 },
 "nbformat": 4,
 "nbformat_minor": 2
}